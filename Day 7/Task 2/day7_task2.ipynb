{
 "cells": [
  {
   "cell_type": "code",
   "execution_count": 1,
   "id": "fb8d2936-01ca-4a93-be30-8eb13026cd12",
   "metadata": {},
   "outputs": [],
   "source": [
    "import pandas as pd\n",
    "from sqlalchemy import create_engine"
   ]
  },
  {
   "cell_type": "code",
   "execution_count": 5,
   "id": "6e25292b-1170-4148-a9be-f96454d454a2",
   "metadata": {},
   "outputs": [
    {
     "name": "stdout",
     "output_type": "stream",
     "text": [
      "       country  1960  1961  1962  1963  1964  1965  1966  1967  1968  ...  \\\n",
      "0        Aruba   0.0   NaN   NaN   NaN   NaN   0.0   NaN   NaN   NaN  ...   \n",
      "1  Afghanistan   0.0   NaN   NaN   NaN   NaN   0.0   NaN   NaN   NaN  ...   \n",
      "2       Angola   0.0   NaN   NaN   NaN   NaN   0.0   NaN   NaN   NaN  ...   \n",
      "3      Albania   0.0   NaN   NaN   NaN   NaN   0.0   NaN   NaN   NaN  ...   \n",
      "4      Andorra   0.0   NaN   NaN   NaN   NaN   0.0   NaN   NaN   NaN  ...   \n",
      "\n",
      "    2014   2015   2016   2017   2018   2019   2020   2021   2022   2023  \n",
      "0   140k   141k    NaN    NaN    NaN   141k   141k   141k    NaN    NaN  \n",
      "1  18.4M  19.7M  21.6M  23.9M    22M  22.6M  22.7M  22.7M  22.8M    23M  \n",
      "2  14.1M  13.9M    13M  13.3M  13.3M  14.8M  14.6M  15.3M  23.7M  25.7M  \n",
      "3  3.36M   3.4M  3.37M  3.63M  2.71M  2.63M  2.62M  2.64M  2.78M  2.61M  \n",
      "4  66.2k  71.3k  76.1k  80.3k  82.6k  87.9k  80.4k  93.8k   114k   126k  \n",
      "\n",
      "[5 rows x 65 columns]\n"
     ]
    }
   ],
   "source": [
    "cell_phones_total_df = pd.read_csv(r\"cell_phones_total.csv\", encoding = \"latin1\") \n",
    "population_df = pd.read_csv(r\"D:\\SYNCNER TRAINING\\BOOTCAMP\\Day 7\\Task 2\\cell_phones_total.csv\", encoding = \"latin1\")  # Replace with actual file path\n",
    "print(cell_phones_total_df.head())\n"
   ]
  },
  {
   "cell_type": "code",
   "execution_count": 6,
   "id": "0762ed2b-0086-4727-85bc-6429a1ee09a6",
   "metadata": {},
   "outputs": [
    {
     "name": "stdout",
     "output_type": "stream",
     "text": [
      "✅ Connected to MySQL Successfully!\n"
     ]
    }
   ],
   "source": [
    "MYSQL_USER = \"root\"  \n",
    "MYSQL_PASSWORD = \"umarsha2509\"  \n",
    "MYSQL_HOST = \"host\" \n",
    "MYSQL_DATABASE = \"gapminder_db\"\n",
    "engine = create_engine(f\"mysql+mysqlconnector://{MYSQL_USER}:{MYSQL_PASSWORD}@{MYSQL_HOST}/{MYSQL_DATABASE}\")\n",
    "\n",
    "print(\"✅ Connected to MySQL Successfully!\")\n"
   ]
  },
  {
   "cell_type": "code",
   "execution_count": 7,
   "id": "30d0597d-c8a7-4dad-a424-9875208a0e27",
   "metadata": {},
   "outputs": [
    {
     "name": "stdout",
     "output_type": "stream",
     "text": [
      "   year  MAX_Cell_Phones  AVG_Cell_Phones  SUM_Cell_Phones\n",
      "0  1990            70000          60000.0           120000\n",
      "1  1995           120000         110000.0           220000\n",
      "2  2000           800000         750000.0          1500000\n"
     ]
    }
   ],
   "source": [
    "import pandas as pd\n",
    "data = {\n",
    "    \"year\": [1990, 1990, 1995, 1995, 2000, 2000],\n",
    "    \"cell_phones\": [50000, 70000, 100000, 120000, 700000, 800000]\n",
    "}\n",
    "df = pd.DataFrame(data)\n",
    "summary = df.groupby(\"year\")[\"cell_phones\"].agg([\"max\", \"mean\", \"sum\"]).reset_index()\n",
    "summary.rename(columns={\"max\": \"MAX_Cell_Phones\", \"mean\": \"AVG_Cell_Phones\", \"sum\": \"SUM_Cell_Phones\"}, inplace=True)\n",
    "print(summary)\n"
   ]
  }
 ],
 "metadata": {
  "kernelspec": {
   "display_name": "Python 3 (ipykernel)",
   "language": "python",
   "name": "python3"
  },
  "language_info": {
   "codemirror_mode": {
    "name": "ipython",
    "version": 3
   },
   "file_extension": ".py",
   "mimetype": "text/x-python",
   "name": "python",
   "nbconvert_exporter": "python",
   "pygments_lexer": "ipython3",
   "version": "3.13.4"
  }
 },
 "nbformat": 4,
 "nbformat_minor": 5
}
